{
 "cells": [
  {
   "cell_type": "code",
   "execution_count": 1,
   "id": "4b62a6ab",
   "metadata": {},
   "outputs": [
    {
     "name": "stdout",
     "output_type": "stream",
     "text": [
      "\n",
      "publicly shared values:\n",
      "Prime number (p): 23\n",
      "Primitive root (g): 5\n",
      "\n",
      "\n",
      "Alice private key (a) :7\n",
      "Bobs private key (b):18\n",
      "\n",
      "Alice public key (A):17\n",
      "bobs public key (B):6\n",
      "\n",
      "alice computed shared secret:3\n",
      "bobs computed shared secret:3\n",
      "\n",
      "sucess ! shared secret key established :3\n"
     ]
    }
   ],
   "source": [
    "p = int(input(\"enter the prime number(p):\"))\n",
    "g = int(input(\"enter the  primitive root modulo p (g):\"))\n",
    "print(f\"\\npublicly shared values:\\nPrime number (p): {p}\\nPrimitive root (g): {g}\\n\")\n",
    "a=int (input(\"enter alice's private key(a):\"))\n",
    "b=int (input(\"enter bobs private keys (b):\"))\n",
    "print(f\"\\nAlice private key (a) :{a}\")\n",
    "print(f\"Bobs private key (b):{b}\\n\")\n",
    "\n",
    "A=pow(g,a,p)\n",
    "B=pow(g,b,p)\n",
    "print(f\"Alice public key (A):{A}\")\n",
    "print(f\"bobs public key (B):{B}\\n\")\n",
    "\n",
    "shared_secret_alice = pow(B,a,p)\n",
    "shared_secret_bob = pow(A,b,p)\n",
    "\n",
    "print(f\"alice computed shared secret:{shared_secret_alice}\")\n",
    "print(f\"bobs computed shared secret:{shared_secret_bob}\\n\")\n",
    "\n",
    "if shared_secret_alice== shared_secret_bob:\n",
    "    print(f\"sucess ! shared secret key established :{shared_secret_alice}\")\n",
    "else :\n",
    "    print(\"x error ! shared secrets do not match .\")\n",
    "      \n",
    "\n",
    "\n",
    "\n"
   ]
  },
  {
   "cell_type": "code",
   "execution_count": 2,
   "id": "4d1023cf",
   "metadata": {},
   "outputs": [
    {
     "name": "stdout",
     "output_type": "stream",
     "text": [
      "\n",
      " publicily shared values:\n",
      "prime number (p): 23\n",
      "primitive root (g):5\n",
      "\n",
      " Alice private key 7:\n",
      "\n",
      "Bobs private key18:\n",
      "alice public key:17\n",
      "bobs public key :3\n",
      "alice computed shared serect:2 \n",
      "bobs computed shared serect :3\n",
      "\n",
      "error occur :\n"
     ]
    }
   ],
   "source": [
    "p=int(input(\"enter the prime number (p):\"))\n",
    "g=int(input(\"enter the primitive root  modul P  (g):\"))\n",
    "print(f\"\\n publicily shared values:\\nprime number (p): {p}\\nprimitive root (g):{g}\")\n",
    "a=int(input(\"enter alice private key (a):\"))\n",
    "b=int(input(\"enter bobs private key (b):\"))\n",
    "\n",
    "print(f\"\\n Alice private key {a}:\")\n",
    "print(f\"\\nBobs private key{b}:\")\n",
    "\n",
    "A=pow(a,g,p)\n",
    "B=pow(b,g,p)\n",
    "print(f\"alice public key:{A}\")\n",
    "print(f\"bobs public key :{B}\")\n",
    "shared_secret_alice=pow(B,a,p)\n",
    "shared_secret_bob=pow(A,b,p)\n",
    "\n",
    "print(f\"alice computed shared serect:{shared_secret_alice} \")\n",
    "print (f\"bobs computed shared serect :{shared_secret_bob}\\n\")\n",
    "\n",
    "if shared_secret_alice== shared_secret_bob:\n",
    "  print(f\"shared secret key established:{shared_secret_alice}\")\n",
    "else:\n",
    "   print(f\"error occur :\")\n",
    "\n",
    "\n",
    "\n"
   ]
  }
 ],
 "metadata": {
  "kernelspec": {
   "display_name": "Python 3",
   "language": "python",
   "name": "python3"
  },
  "language_info": {
   "codemirror_mode": {
    "name": "ipython",
    "version": 3
   },
   "file_extension": ".py",
   "mimetype": "text/x-python",
   "name": "python",
   "nbconvert_exporter": "python",
   "pygments_lexer": "ipython3",
   "version": "3.10.0"
  }
 },
 "nbformat": 4,
 "nbformat_minor": 5
}
