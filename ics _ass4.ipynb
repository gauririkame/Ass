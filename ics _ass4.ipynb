{
 "cells": [
  {
   "cell_type": "code",
   "execution_count": 11,
   "id": "8e15fdbf",
   "metadata": {},
   "outputs": [
    {
     "name": "stdout",
     "output_type": "stream",
     "text": [
      "Defaulting to user installation because normal site-packages is not writeable\n",
      "Collecting pycryptodome\n",
      "  Downloading pycryptodome-3.22.0-cp37-abi3-win_amd64.whl.metadata (3.4 kB)\n",
      "Downloading pycryptodome-3.22.0-cp37-abi3-win_amd64.whl (1.8 MB)\n",
      "   ---------------------------------------- 0.0/1.8 MB ? eta -:--:--\n",
      "   ----------- ---------------------------- 0.5/1.8 MB 8.5 MB/s eta 0:00:01\n",
      "   ---------------------------------------- 1.8/1.8 MB 5.8 MB/s eta 0:00:00\n",
      "Installing collected packages: pycryptodome\n",
      "Successfully installed pycryptodome-3.22.0\n"
     ]
    },
    {
     "name": "stderr",
     "output_type": "stream",
     "text": [
      "\n",
      "[notice] A new release of pip is available: 24.3.1 -> 25.1\n",
      "[notice] To update, run: C:\\Users\\Acer\\AppData\\Local\\Microsoft\\WindowsApps\\PythonSoftwareFoundation.Python.3.12_qbz5n2kfra8p0\\python.exe -m pip install --upgrade pip\n"
     ]
    }
   ],
   "source": [
    "!pip install pycryptodome\n",
    "\n"
   ]
  },
  {
   "cell_type": "code",
   "execution_count": 13,
   "id": "09ff1374",
   "metadata": {},
   "outputs": [
    {
     "name": "stdout",
     "output_type": "stream",
     "text": [
      "Defaulting to user installation because normal site-packages is not writeable"
     ]
    },
    {
     "name": "stderr",
     "output_type": "stream",
     "text": [
      "\n",
      "[notice] A new release of pip is available: 24.3.1 -> 25.1\n",
      "[notice] To update, run: C:\\Users\\Acer\\AppData\\Local\\Microsoft\\WindowsApps\\PythonSoftwareFoundation.Python.3.12_qbz5n2kfra8p0\\python.exe -m pip install --upgrade pip\n"
     ]
    },
    {
     "name": "stdout",
     "output_type": "stream",
     "text": [
      "\n",
      "Requirement already satisfied: sympy in c:\\users\\acer\\appdata\\local\\packages\\pythonsoftwarefoundation.python.3.12_qbz5n2kfra8p0\\localcache\\local-packages\\python312\\site-packages (1.14.0)\n",
      "Requirement already satisfied: mpmath<1.4,>=1.1.0 in c:\\users\\acer\\appdata\\local\\packages\\pythonsoftwarefoundation.python.3.12_qbz5n2kfra8p0\\localcache\\local-packages\\python312\\site-packages (from sympy) (1.3.0)\n"
     ]
    }
   ],
   "source": [
    "!pip install sympy"
   ]
  },
  {
   "cell_type": "code",
   "execution_count": null,
   "id": "7c0f5562",
   "metadata": {},
   "outputs": [
    {
     "ename": "ModuleNotFoundError",
     "evalue": "No module named 'sympy'",
     "output_type": "error",
     "traceback": [
      "\u001b[1;31m---------------------------------------------------------------------------\u001b[0m",
      "\u001b[1;31mModuleNotFoundError\u001b[0m                       Traceback (most recent call last)",
      "Cell \u001b[1;32mIn[21], line 1\u001b[0m\n\u001b[1;32m----> 1\u001b[0m \u001b[38;5;28;01mfrom\u001b[39;00m \u001b[38;5;21;01msympy\u001b[39;00m \u001b[38;5;28;01mimport\u001b[39;00m randprime, gcd\n\u001b[0;32m      2\u001b[0m \u001b[38;5;28;01mfrom\u001b[39;00m \u001b[38;5;21;01mCrypto\u001b[39;00m\u001b[38;5;21;01m.\u001b[39;00m\u001b[38;5;21;01mUtil\u001b[39;00m\u001b[38;5;21;01m.\u001b[39;00m\u001b[38;5;21;01mnumber\u001b[39;00m \u001b[38;5;28;01mimport\u001b[39;00m inverse\n\u001b[0;32m      3\u001b[0m \u001b[38;5;28;01mimport\u001b[39;00m \u001b[38;5;21;01mrandom\u001b[39;00m\n",
      "\u001b[1;31mModuleNotFoundError\u001b[0m: No module named 'sympy'"
     ]
    }
   ],
   "source": [
    "from sympy import randprime, gcd\n",
    "from Crypto.Util.number import inverse\n",
    "import random\n",
    "\n",
    "def generate_key(bit_length=512):\n",
    "    p = randprime(2**(bit_length - 1), 2**bit_length)\n",
    "    q = randprime(2**(bit_length - 1), 2**bit_length)\n",
    "    while p == q:\n",
    "        q = randprime(2**(bit_length - 1), 2**bit_length)\n",
    "\n",
    "    n = p * q\n",
    "    phi_n = (p - 1) * (q - 1)\n",
    "\n",
    "    e = random.randrange(2, phi_n)\n",
    "    while gcd(e, phi_n) != 1:\n",
    "        e = random.randrange(2, phi_n)\n",
    "\n",
    "    d = inverse(e, phi_n)\n",
    "    return (e, n), (d, n)\n",
    "\n",
    "def encrypt(plaintext, public_key):\n",
    "    e, n = public_key\n",
    "    plaintext_int = int.from_bytes(plaintext.encode(), byteorder='big')\n",
    "    ciphertext = pow(plaintext_int, e, n)\n",
    "    return ciphertext\n",
    "\n",
    "def decrypt(ciphertext, private_key):\n",
    "    d, n = private_key\n",
    "    plaintext_int = pow(ciphertext, d, n)\n",
    "    plaintext = plaintext_int.to_bytes((plaintext_int.bit_length() + 7) // 8, byteorder='big').decode()\n",
    "    return plaintext\n",
    "\n",
    "def main():\n",
    "    public_key, private_key = generate_key()\n",
    "\n",
    "    print(\"Public Key (e, n):\", public_key)\n",
    "    print(\"Private Key (d, n):\", private_key)\n",
    "\n",
    "    message = input(\"\\nEnter a message to encrypt: \")\n",
    "    print(\"\\nOriginal Message:\", message)\n",
    "\n",
    "    ciphertext = encrypt(message, public_key)\n",
    "    print(\"\\nCiphertext:\", ciphertext)\n",
    "\n",
    "    decrypted_message = decrypt(ciphertext, private_key)\n",
    "    print(\"\\nDecrypted Message:\", decrypted_message)\n",
    "\n",
    "if __name__ == \"__main__\":\n",
    "    main()\n"
   ]
  }
 ],
 "metadata": {
  "kernelspec": {
   "display_name": "Python 3",
   "language": "python",
   "name": "python3"
  },
  "language_info": {
   "codemirror_mode": {
    "name": "ipython",
    "version": 3
   },
   "file_extension": ".py",
   "mimetype": "text/x-python",
   "name": "python",
   "nbconvert_exporter": "python",
   "pygments_lexer": "ipython3",
   "version": "3.10.0"
  }
 },
 "nbformat": 4,
 "nbformat_minor": 5
}
